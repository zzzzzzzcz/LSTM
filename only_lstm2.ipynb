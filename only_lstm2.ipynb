{
  "cells": [
    {
      "cell_type": "markdown",
      "metadata": {
        "id": "view-in-github",
        "colab_type": "text"
      },
      "source": [
        "<a href=\"https://colab.research.google.com/github/zzzzzzzcz/LSTM/blob/main/only_lstm2.ipynb\" target=\"_parent\"><img src=\"https://colab.research.google.com/assets/colab-badge.svg\" alt=\"Open In Colab\"/></a>"
      ]
    },
    {
      "cell_type": "code",
      "execution_count": null,
      "metadata": {
        "colab": {
          "base_uri": "https://localhost:8080/"
        },
        "id": "ShVUyeONd5_P",
        "outputId": "bfbd559a-fe4d-4cb6-eb08-69415163a21f"
      },
      "outputs": [
        {
          "output_type": "stream",
          "name": "stdout",
          "text": [
            "Drive already mounted at /content/drive; to attempt to forcibly remount, call drive.mount(\"/content/drive\", force_remount=True).\n"
          ]
        }
      ],
      "source": [
        "from google.colab import drive\n",
        "drive.mount('/content/drive')\n",
        "\n"
      ]
    },
    {
      "cell_type": "code",
      "execution_count": null,
      "metadata": {
        "colab": {
          "base_uri": "https://localhost:8080/"
        },
        "id": "hUFhojIuvC_W",
        "outputId": "1e472056-7e84-4f54-866d-ca064e9684f3"
      },
      "outputs": [
        {
          "output_type": "stream",
          "name": "stdout",
          "text": [
            "Looking in indexes: https://pypi.org/simple, https://us-python.pkg.dev/colab-wheels/public/simple/\n",
            "Requirement already satisfied: pyts in /usr/local/lib/python3.9/dist-packages (0.12.0)\n",
            "Requirement already satisfied: numba>=0.48.0 in /usr/local/lib/python3.9/dist-packages (from pyts) (0.56.4)\n",
            "Requirement already satisfied: scipy>=1.3.0 in /usr/local/lib/python3.9/dist-packages (from pyts) (1.10.1)\n",
            "Requirement already satisfied: joblib>=0.12 in /usr/local/lib/python3.9/dist-packages (from pyts) (1.1.1)\n",
            "Requirement already satisfied: numpy>=1.17.5 in /usr/local/lib/python3.9/dist-packages (from pyts) (1.22.4)\n",
            "Requirement already satisfied: scikit-learn>=0.22.1 in /usr/local/lib/python3.9/dist-packages (from pyts) (1.2.2)\n",
            "Requirement already satisfied: setuptools in /usr/local/lib/python3.9/dist-packages (from numba>=0.48.0->pyts) (63.4.3)\n",
            "Requirement already satisfied: llvmlite<0.40,>=0.39.0dev0 in /usr/local/lib/python3.9/dist-packages (from numba>=0.48.0->pyts) (0.39.1)\n",
            "Requirement already satisfied: threadpoolctl>=2.0.0 in /usr/local/lib/python3.9/dist-packages (from scikit-learn>=0.22.1->pyts) (3.1.0)\n"
          ]
        }
      ],
      "source": [
        "!pip install pyts"
      ]
    },
    {
      "cell_type": "code",
      "execution_count": null,
      "metadata": {
        "id": "I6dN1FciMgxr"
      },
      "outputs": [],
      "source": [
        "import math\n",
        "from sklearn.metrics import confusion_matrix, classification_report\n",
        "from sklearn.metrics import confusion_matrix\n",
        "from sklearn import svm"
      ]
    },
    {
      "cell_type": "code",
      "execution_count": null,
      "metadata": {
        "id": "VZqLqnaVvmHe"
      },
      "outputs": [],
      "source": [
        "import matplotlib.pyplot as plt\n",
        "from mpl_toolkits.axes_grid1 import ImageGrid\n",
        "from pyts.image import GramianAngularField\n",
        "from pyts.datasets import load_gunpoint\n",
        "import matplotlib.pyplot as plt\n",
        "from pyts.image import MarkovTransitionField\n",
        "from tensorflow.keras.utils import to_categorical"
      ]
    },
    {
      "cell_type": "code",
      "execution_count": null,
      "metadata": {
        "id": "tlP9yQhtHGIw",
        "colab": {
          "base_uri": "https://localhost:8080/"
        },
        "outputId": "9dd9767f-7cdb-460e-f502-c7af54d87bee"
      },
      "outputs": [
        {
          "output_type": "stream",
          "name": "stdout",
          "text": [
            "0.8.1\n"
          ]
        }
      ],
      "source": [
        "import imblearn\n",
        "from imblearn.over_sampling import SMOTE\n",
        "from imblearn.over_sampling import RandomOverSampler\n",
        "from imblearn.over_sampling import ADASYN\n",
        "from imblearn.under_sampling import NearMiss\n",
        "print(imblearn.__version__)"
      ]
    },
    {
      "cell_type": "code",
      "execution_count": null,
      "metadata": {
        "id": "xAbRwVtj81d1"
      },
      "outputs": [],
      "source": [
        "from sklearn import datasets\n",
        "from sklearn.ensemble import AdaBoostClassifier,VotingClassifier\n",
        "from sklearn.tree import DecisionTreeClassifier\n",
        "from sklearn.svm import SVC\n",
        "import tensorflow as tf\n",
        "from tensorflow.keras.preprocessing import image\n",
        "import numpy as np\n",
        "import keras\n",
        "from tensorflow.keras.callbacks import EarlyStopping\n"
      ]
    },
    {
      "cell_type": "code",
      "execution_count": null,
      "metadata": {
        "id": "obNuw09dejmv"
      },
      "outputs": [],
      "source": [
        "import numpy as np\n",
        "import matplotlib.pyplot as plt\n",
        "from matplotlib.colors import ListedColormap\n",
        "from sklearn.model_selection import train_test_split\n",
        "from sklearn.preprocessing import StandardScaler\n",
        "from sklearn.datasets import make_moons, make_circles, make_classification\n",
        "from sklearn.neural_network import MLPClassifier\n",
        "from sklearn.neighbors import KNeighborsClassifier\n",
        "from sklearn.svm import SVC\n",
        "from sklearn.gaussian_process import GaussianProcessClassifier\n",
        "from sklearn.gaussian_process.kernels import RBF\n",
        "from sklearn.tree import DecisionTreeClassifier\n",
        "from sklearn.ensemble import RandomForestClassifier, AdaBoostClassifier\n",
        "from sklearn.naive_bayes import GaussianNB\n",
        "from sklearn.discriminant_analysis import QuadraticDiscriminantAnalysis"
      ]
    },
    {
      "cell_type": "code",
      "execution_count": null,
      "metadata": {
        "id": "73iKcz6pYyaf"
      },
      "outputs": [],
      "source": [
        "import math\n",
        "import pandas as pd\n",
        "import matplotlib.pyplot as plt\n",
        "import seaborn as sns\n",
        "import cmath\n",
        "import pandas as pd\n",
        "import numpy as np\n",
        "import matplotlib.pyplot as plt\n",
        "from sklearn.preprocessing import MinMaxScaler\n",
        "from sklearn.model_selection import train_test_split\n",
        "from sklearn.metrics import accuracy_score\n",
        "from sklearn.model_selection import GridSearchCV\n",
        "from sklearn.svm import SVC\n",
        "from sklearn.decomposition import PCA\n",
        "from sklearn.metrics import confusion_matrix, classification_report\n",
        "from sklearn.discriminant_analysis import LinearDiscriminantAnalysis\n",
        "from sklearn.metrics import confusion_matrix\n",
        "import cv2"
      ]
    },
    {
      "cell_type": "code",
      "execution_count": null,
      "metadata": {
        "id": "FgDKngoMeLCB"
      },
      "outputs": [],
      "source": [
        "cols95 = np.arange(1, 86+2,1)\n",
        "cols96 = np.arange(1, 184 +2,1)\n",
        "cols97 = np.arange(1, 196 +2,1)\n",
        "cols98 = np.arange(1, 74 +2,1)\n",
        "cols99 = np.arange(1, 203 +2,1)\n",
        "colsnormal = np.arange(1, 202 +2,1)\n",
        "cols101 = np.arange(1, 78 +2,1)\n",
        "cols102 = np.arange(1, 189 +2,1)\n",
        "cols103 = np.arange(1,  79+2,1)\n",
        "cols104 = np.arange(1, 88 +2,1)\n",
        "cols105 = np.arange(1, 184 +2,1)\n",
        "finalcols = np.arange(1, 1+2,1)"
      ]
    },
    {
      "cell_type": "code",
      "execution_count": null,
      "metadata": {
        "id": "zDeyYi_kecqz"
      },
      "outputs": [],
      "source": [
        "data95 = pd.read_csv(r'/content/drive/My Drive/Shweta/PSD data/psd_95.csv',header=0, sep=';', usecols=cols95)\n",
        "data95 = data95.transpose()"
      ]
    },
    {
      "cell_type": "code",
      "execution_count": null,
      "metadata": {
        "id": "iOtfbzPwiLuo"
      },
      "outputs": [],
      "source": [
        "data96 = pd.read_csv(r'/content/drive/My Drive/Shweta/PSD data/psd_96.csv',header=0, sep=';', usecols=cols96)\n",
        "data96 = data96.transpose()"
      ]
    },
    {
      "cell_type": "code",
      "execution_count": null,
      "metadata": {
        "id": "pbSEJ3ov77S-"
      },
      "outputs": [],
      "source": [
        "data103 = pd.read_csv(r'/content/drive/My Drive/Shweta/PSD data/psd_103.csv',header=0, sep=';', usecols=cols103)\n",
        "data103 = data103.transpose()"
      ]
    },
    {
      "cell_type": "code",
      "execution_count": null,
      "metadata": {
        "id": "1G9DaeFRiS4x"
      },
      "outputs": [],
      "source": [
        "data104 = pd.read_csv(r'/content/drive/My Drive/Shweta/PSD data/psd_104.csv',header=0, sep=';', usecols=cols104)\n",
        "data104 = data104.transpose()"
      ]
    },
    {
      "cell_type": "code",
      "execution_count": null,
      "metadata": {
        "id": "bsTUqoHSX0aw"
      },
      "outputs": [],
      "source": [
        "data98 = pd.read_csv(r'/content/drive/My Drive/Shweta/PSD data/psd_98.csv',header=0, sep=';', usecols=cols98)\n",
        "data98 = data98.transpose()"
      ]
    },
    {
      "cell_type": "code",
      "execution_count": null,
      "metadata": {
        "id": "bkdpoZ7GX0nJ"
      },
      "outputs": [],
      "source": [
        "data102 = pd.read_csv(r'/content/drive/My Drive/Shweta/PSD data/psd_102.csv',header=0, sep=';', usecols=cols102)\n",
        "data102 = data102.transpose()"
      ]
    },
    {
      "cell_type": "code",
      "execution_count": null,
      "metadata": {
        "id": "kk4wOSZphng2"
      },
      "outputs": [],
      "source": [
        "data99 = pd.read_csv(r'/content/drive/My Drive/Shweta/PSD data/psd_99.csv',header=0, sep=';', usecols=cols99)\n",
        "data99 = data99.transpose()"
      ]
    },
    {
      "cell_type": "code",
      "execution_count": null,
      "metadata": {
        "id": "GkCmVGuHhnob"
      },
      "outputs": [],
      "source": [
        "data101 = pd.read_csv(r'/content/drive/My Drive/Shweta/PSD data/psd_101.csv',header=0, sep=';', usecols=cols101)\n",
        "data101 = data101.transpose()"
      ]
    },
    {
      "cell_type": "code",
      "execution_count": null,
      "metadata": {
        "id": "u4eyvSuRShwo"
      },
      "outputs": [],
      "source": [
        "data97 = pd.read_csv(r'/content/drive/My Drive/Shweta/PSD data/psd_97.csv',header=0, sep=';', usecols=cols97)\n",
        "data97 = data97.transpose()"
      ]
    },
    {
      "cell_type": "code",
      "execution_count": null,
      "metadata": {
        "id": "8hn9SMLJ_JV7"
      },
      "outputs": [],
      "source": [
        "datanormal = pd.read_csv(r'/content/drive/My Drive/Shweta/PSD data/psd_100.csv',header=0, sep=';', usecols=colsnormal)\n",
        "datanormal = datanormal.transpose()"
      ]
    },
    {
      "cell_type": "code",
      "execution_count": null,
      "metadata": {
        "id": "iOCnSYHlvCDo"
      },
      "outputs": [],
      "source": [
        "data105 = pd.read_csv(r'/content/drive/My Drive/Shweta/PSD data/psd_105.csv',header=0, sep=';', usecols=cols105)\n",
        "data105 = data105.transpose()"
      ]
    },
    {
      "cell_type": "code",
      "execution_count": null,
      "metadata": {
        "id": "qCdEIrX8CP77"
      },
      "outputs": [],
      "source": [
        "final = pd.read_csv(r'/content/drive/My Drive/results6.csv',header=0, sep=',',index_col=0)"
      ]
    },
    {
      "cell_type": "code",
      "execution_count": null,
      "metadata": {
        "id": "i796WJ2yTAYv"
      },
      "outputs": [],
      "source": [
        "finalpsd = pd.read_csv(r'/content/drive/My Drive/resultspsdcerto2.csv',header=0, sep=',',index_col=0)"
      ]
    },
    {
      "cell_type": "code",
      "execution_count": null,
      "metadata": {
        "id": "VykKnKhlEgpF"
      },
      "outputs": [],
      "source": [
        "final = np.array(final)"
      ]
    },
    {
      "cell_type": "code",
      "execution_count": null,
      "metadata": {
        "id": "FCzqKvT3QHJr"
      },
      "outputs": [],
      "source": [
        "scaler = MinMaxScaler(feature_range=(0,4))"
      ]
    },
    {
      "cell_type": "code",
      "execution_count": null,
      "metadata": {
        "id": "CT1QLraBRX6x"
      },
      "outputs": [],
      "source": [
        "final = scaler.fit_transform(final)"
      ]
    },
    {
      "cell_type": "code",
      "execution_count": null,
      "metadata": {
        "id": "ECzjIMK7BVii"
      },
      "outputs": [],
      "source": [
        "data95 = np.array(data95)\n",
        "data96 = np.array(data96)\n",
        "data97 = np.array(data97)\n",
        "data98 = np.array(data98)\n",
        "data99 = np.array(data99)\n",
        "datanormal = np.array(datanormal)\n",
        "data101 = np.array(data101)\n",
        "data102 = np.array(data102)\n",
        "data103 = np.array(data103)\n",
        "data104 = np.array(data104)\n",
        "data105 = np.array(data105)"
      ]
    },
    {
      "cell_type": "code",
      "execution_count": null,
      "metadata": {
        "id": "vSlOeqX3riMe"
      },
      "outputs": [],
      "source": [
        "data95 = np.fft.ifft(data95)\n",
        "data96 = np.fft.ifft(data96)\n",
        "data97 = np.fft.ifft(data97)\n",
        "data98 = np.fft.ifft(data98)\n",
        "data99 = np.fft.ifft(data99)\n",
        "data9normal = np.fft.ifft(datanormal)\n",
        "data101 = np.fft.ifft(data101)\n",
        "data102 = np.fft.ifft(data102)\n",
        "data103 = np.fft.ifft(data103)\n",
        "data104 = np.fft.ifft(data104)\n",
        "data105 = np.fft.ifft(data105)"
      ]
    },
    {
      "cell_type": "code",
      "execution_count": null,
      "metadata": {
        "id": "xN_zh1t-8vkf"
      },
      "outputs": [],
      "source": [
        "x0 = data95[:87,:] #03\n",
        "x1 = data96[:185,:] #03\n",
        "x2 = data97[:197,:] #05\n",
        "x3 = data98[:75,:] #03\n",
        "x4 = data99[:204,:] #03\n",
        "x5 = datanormal[:203,:] #normal\n",
        "x6 = data101[:79,:] #03\n",
        "x7 = data102[:190,:] #03\n",
        "x8 = data103[:80,:] #03\n",
        "x9 = data104[:89,:] #03\n",
        "x10 = data105[:185,:] #105\n",
        "\n",
        "x = np.concatenate((x0,x1,x2,x3,x4,x5,x6,x7,x8,x9,x10), axis=0)\n",
        "\n",
        "y = np.ones((1574), dtype=np.int32)\n",
        "\n",
        "y[:87] = 1\n",
        "y[87:272] = 2\n",
        "y[272:469] = 3\n",
        "y[469:544] = 4\n",
        "y[544:748] = 5\n",
        "y[748:951] = 6\n",
        "y[951:1030] = 7\n",
        "y[1030:1220] =8\n",
        "y[1220:1300] = 9\n",
        "y[1300:1389] = 10\n",
        "y[1389:1574] = 11"
      ]
    },
    {
      "cell_type": "code",
      "execution_count": null,
      "metadata": {
        "id": "KgvLx0KDHMlv"
      },
      "outputs": [],
      "source": [
        "y = np.ones((1574), dtype=np.int32)\n",
        "\n",
        "y[:87] = 1\n",
        "y[87:272] = 2\n",
        "y[272:469] = 3\n",
        "y[469:544] = 4\n",
        "y[544:748] = 5\n",
        "y[748:951] = 6\n",
        "y[951:1030] = 7\n",
        "y[1030:1220] =8\n",
        "y[1220:1300] = 9\n",
        "y[1300:1389] = 10\n",
        "y[1389:1574] = 11"
      ]
    },
    {
      "cell_type": "code",
      "execution_count": null,
      "metadata": {
        "id": "o4GYAt5Kh9SN",
        "colab": {
          "base_uri": "https://localhost:8080/"
        },
        "outputId": "34c04c32-e785-4c02-8abb-1d22bfe4836c"
      },
      "outputs": [
        {
          "output_type": "execute_result",
          "data": {
            "text/plain": [
              "(1574, 15)"
            ]
          },
          "metadata": {},
          "execution_count": 506
        }
      ],
      "source": [
        "x.shape"
      ]
    },
    {
      "cell_type": "code",
      "execution_count": null,
      "metadata": {
        "id": "bsVK7Qmxl3Uu"
      },
      "outputs": [],
      "source": [
        "classe05 = np.concatenate((x0,x10))\n",
        "classe04 = np.concatenate((x1,x9))\n",
        "classe03 = np.concatenate((x2,x8))\n",
        "classe02 = np.concatenate((x3,x7))\n",
        "classe01 = np.concatenate((x4,x6))\n",
        "classenormal = x5\n",
        "\n",
        "#xSMOTEearly = np.concatenate((classe05,classe04,classe03,classe02,classe01,classenormal))\n",
        "#xSMOTEearly = np.concatenate((classe04,classe03,classe02,classe01,classenormal))\n",
        "#xSMOTEearly = np.concatenate((classe03,classe02,classe01,classenormal))\n",
        "#xSMOTEearly = np.concatenate((classe02,classe01,classenormal))\n",
        "xSMOTEearly = np.concatenate((classe01,classenormal))"
      ]
    },
    {
      "cell_type": "code",
      "execution_count": null,
      "metadata": {
        "id": "l30ZVr1kG5AJ"
      },
      "outputs": [],
      "source": [
        "from numpy import array\n",
        "from keras.models import Sequential\n",
        "from keras.layers import LSTM\n",
        "from keras.layers import Dense"
      ]
    },
    {
      "cell_type": "code",
      "execution_count": null,
      "metadata": {
        "id": "7u5sQ0mAjfVN"
      },
      "outputs": [],
      "source": [
        "# split a univariate sequence into samples\n",
        "def split_sequence(sequence, n_steps):\n",
        "\tX, y = list(), list()\n",
        "\tfor i in range(len(sequence)):\n",
        "\t\t# find the end of this pattern\n",
        "\t\tend_ix = i + n_steps\n",
        "\t\t# check if we are beyond the sequence\n",
        "\t\tif end_ix > len(sequence)-1:\n",
        "\t\t\tbreak\n",
        "\t\t# gather input and output parts of the pattern\n",
        "\t\tseq_x, seq_y = sequence[i:end_ix], sequence[end_ix]\n",
        "\t\tX.append(seq_x)\n",
        "\t\ty.append(seq_y)\n",
        "\treturn array(X), array(y)"
      ]
    },
    {
      "cell_type": "code",
      "execution_count": null,
      "metadata": {
        "id": "NOYSvukojupu"
      },
      "outputs": [],
      "source": [
        "# define input sequence\n",
        "raw_seq = xSMOTEearly\n",
        "# choose a number of time steps\n",
        "n_steps = 10\n",
        "# split into samples\n",
        "X, y = split_sequence(raw_seq, n_steps)\n",
        "# summarize the data\n",
        "#for i in range(len(X)):\n",
        "\t#print(X[i], y[i])"
      ]
    },
    {
      "cell_type": "code",
      "source": [
        "X.shape[0]"
      ],
      "metadata": {
        "id": "HbBy5YCj36dK",
        "colab": {
          "base_uri": "https://localhost:8080/"
        },
        "outputId": "4a984ea1-f870-480f-bb75-78b0ca11b533"
      },
      "execution_count": null,
      "outputs": [
        {
          "output_type": "execute_result",
          "data": {
            "text/plain": [
              "476"
            ]
          },
          "metadata": {},
          "execution_count": 511
        }
      ]
    },
    {
      "cell_type": "code",
      "source": [
        "X.shape"
      ],
      "metadata": {
        "colab": {
          "base_uri": "https://localhost:8080/"
        },
        "id": "trTQe3WABY6T",
        "outputId": "290d0d0d-bbcf-483d-a83f-9020b5961dd1"
      },
      "execution_count": null,
      "outputs": [
        {
          "output_type": "execute_result",
          "data": {
            "text/plain": [
              "(476, 10, 15)"
            ]
          },
          "metadata": {},
          "execution_count": 512
        }
      ]
    },
    {
      "cell_type": "code",
      "execution_count": null,
      "metadata": {
        "id": "cx4wHd_8hRpv"
      },
      "outputs": [],
      "source": [
        "y = np.ones((X.shape[0]), dtype=np.int32)\n",
        "\n",
        "y[:203] = 0\n",
        "y[203:476] = 1\n",
        "y[476:741] = 2\n",
        "y[741:1018] = 3\n",
        "y[1018:1292] = 4\n",
        "y[1292:1564] = 5"
      ]
    },
    {
      "cell_type": "code",
      "execution_count": null,
      "metadata": {
        "id": "8h_Pug4BmvDu",
        "colab": {
          "base_uri": "https://localhost:8080/"
        },
        "outputId": "ebdd9cf5-e1ef-473f-ea7d-a88fc01cf523"
      },
      "outputs": [
        {
          "output_type": "stream",
          "name": "stderr",
          "text": [
            "<ipython-input-514-d02b7ce46e51>:1: ComplexWarning: Casting complex values to real discards the imaginary part\n",
            "  X = X.astype(np.float32)\n"
          ]
        }
      ],
      "source": [
        "X = X.astype(np.float32)\n",
        "y = y.astype(np.float32)"
      ]
    },
    {
      "cell_type": "code",
      "execution_count": null,
      "metadata": {
        "id": "9IxMlyAOgAMj"
      },
      "outputs": [],
      "source": [
        "X_train, X_test, y_train, y_test = train_test_split(X, y, test_size=0.2, random_state=6)"
      ]
    },
    {
      "cell_type": "code",
      "source": [
        "classes = np.unique(y_train)\n",
        "nClasses = len(classes)\n",
        "print('Total number of outputs : ', nClasses)\n",
        "print('Output classes : ', classes)"
      ],
      "metadata": {
        "id": "Kik9pRzw40a0",
        "colab": {
          "base_uri": "https://localhost:8080/"
        },
        "outputId": "fde263ae-15c7-41b9-bc6a-41c38881cdd1"
      },
      "execution_count": null,
      "outputs": [
        {
          "output_type": "stream",
          "name": "stdout",
          "text": [
            "Total number of outputs :  2\n",
            "Output classes :  [0. 1.]\n"
          ]
        }
      ]
    },
    {
      "cell_type": "code",
      "execution_count": null,
      "metadata": {
        "id": "8vjnF-xKiKFz",
        "colab": {
          "base_uri": "https://localhost:8080/"
        },
        "outputId": "3d811ce2-f08a-42ec-aadc-37fbf216deb9"
      },
      "outputs": [
        {
          "output_type": "execute_result",
          "data": {
            "text/plain": [
              "((380, 10, 15), (96, 10, 15))"
            ]
          },
          "metadata": {},
          "execution_count": 517
        }
      ],
      "source": [
        "train_X = X_train\n",
        "test_X = X_test\n",
        "train_X.shape, test_X.shape"
      ]
    },
    {
      "cell_type": "code",
      "execution_count": null,
      "metadata": {
        "id": "L5iBCNcnjl4E",
        "colab": {
          "base_uri": "https://localhost:8080/"
        },
        "outputId": "b56fd1a3-8100-4e5f-cdda-00ac42869a49"
      },
      "outputs": [
        {
          "output_type": "stream",
          "name": "stdout",
          "text": [
            "Original label: 1.0\n",
            "After conversion to one-hot: [0. 1.]\n"
          ]
        }
      ],
      "source": [
        "# Change the labels from categorical to one-hot encoding\n",
        "train_Y_one_hot = to_categorical(y_train)\n",
        "test_Y_one_hot = to_categorical(y_test)\n",
        "\n",
        "# Display the change for category label using one-hot encoding\n",
        "print('Original label:', y_train[7])\n",
        "print('After conversion to one-hot:', train_Y_one_hot[7])"
      ]
    },
    {
      "cell_type": "code",
      "execution_count": null,
      "metadata": {
        "id": "DV4L1X45nNLu"
      },
      "outputs": [],
      "source": [
        "train_X,valid_X,train_label,valid_label = train_test_split(train_X, train_Y_one_hot, test_size=0.15, random_state=13)"
      ]
    },
    {
      "cell_type": "code",
      "execution_count": null,
      "metadata": {
        "id": "quSs0Fw9pWB3"
      },
      "outputs": [],
      "source": [
        "batch_size = 64\n",
        "epochs = 110\n",
        "num_classes = nClasses"
      ]
    },
    {
      "cell_type": "code",
      "execution_count": null,
      "metadata": {
        "id": "E-PBKo42UF9i"
      },
      "outputs": [],
      "source": [
        "from sklearn.model_selection import train_test_split\n",
        "\n",
        "import keras\n",
        "from keras.models import Sequential, Model\n",
        "from keras import Input\n",
        "from keras.layers import Dense, Dropout, Flatten\n",
        "from keras.layers import Conv2D, MaxPooling2D, AveragePooling2D, GlobalAveragePooling2D\n",
        "from keras.layers import BatchNormalization\n",
        "from keras.layers import LeakyReLU\n",
        "from keras.layers import ReLU\n",
        "from keras.layers import TimeDistributed\n",
        "from keras.layers import LSTM\n",
        "from keras.layers import Bidirectional\n",
        "from keras.layers import Reshape\n",
        "\n",
        "import tensorflow as tf\n",
        "from tensorflow import keras"
      ]
    },
    {
      "cell_type": "code",
      "execution_count": null,
      "metadata": {
        "id": "T3uptrWnrBKv"
      },
      "outputs": [],
      "source": [
        "model = Sequential()\n",
        "model.add(LSTM(150, return_sequences=True))\n",
        "model.add(Dropout(0.3))\n",
        "model.add(LSTM(96))\n",
        "\n",
        "model.add(Flatten())\n",
        "\n",
        "model.add(Dense(128, activation='linear'))\n",
        "model.add(LeakyReLU(alpha=0.2))\n",
        "model.add(Dropout(0.3))\n",
        "model.add(Dense(num_classes, activation='softmax'))"
      ]
    },
    {
      "cell_type": "code",
      "execution_count": null,
      "metadata": {
        "id": "pBe0_F_jrMHr"
      },
      "outputs": [],
      "source": [
        "model.compile(loss=keras.losses.categorical_crossentropy, optimizer=keras.optimizers.Adam(),metrics=['accuracy'])"
      ]
    },
    {
      "cell_type": "code",
      "execution_count": null,
      "metadata": {
        "id": "M7kXt0ZshlqI"
      },
      "outputs": [],
      "source": [
        "checkpoint_filepath = '/tmp/checkpoint'\n",
        "model_checkpoint_callback = tf.keras.callbacks.ModelCheckpoint(\n",
        "    filepath=checkpoint_filepath,\n",
        "    save_weights_only=False,\n",
        "    monitor='loss',\n",
        "    mode='min',\n",
        "    save_best_only=True)\n",
        "\n",
        "callbacks = [\n",
        "             EarlyStopping(patience=50),\n",
        "]"
      ]
    },
    {
      "cell_type": "code",
      "execution_count": null,
      "metadata": {
        "id": "fAjJOTtoIvlr",
        "colab": {
          "base_uri": "https://localhost:8080/"
        },
        "outputId": "78a685a8-8d5e-43e9-ae38-b1e7c4449f86"
      },
      "outputs": [
        {
          "output_type": "stream",
          "name": "stdout",
          "text": [
            "Epoch 1/110\n",
            "6/6 [==============================] - 13s 626ms/step - loss: 0.5310 - accuracy: 0.7461 - val_loss: 0.3473 - val_accuracy: 0.8596\n",
            "Epoch 2/110\n",
            "6/6 [==============================] - 1s 117ms/step - loss: 0.3326 - accuracy: 0.8576 - val_loss: 0.3481 - val_accuracy: 0.8596\n",
            "Epoch 3/110\n",
            "6/6 [==============================] - 1s 110ms/step - loss: 0.3509 - accuracy: 0.8545 - val_loss: 0.3258 - val_accuracy: 0.8596\n",
            "Epoch 4/110\n",
            "6/6 [==============================] - 1s 107ms/step - loss: 0.3296 - accuracy: 0.8545 - val_loss: 0.3090 - val_accuracy: 0.8596\n",
            "Epoch 5/110\n",
            "6/6 [==============================] - 1s 110ms/step - loss: 0.3192 - accuracy: 0.8576 - val_loss: 0.3094 - val_accuracy: 0.8596\n",
            "Epoch 6/110\n",
            "6/6 [==============================] - 1s 123ms/step - loss: 0.3270 - accuracy: 0.8545 - val_loss: 0.3163 - val_accuracy: 0.8596\n",
            "Epoch 7/110\n",
            "6/6 [==============================] - 1s 118ms/step - loss: 0.3226 - accuracy: 0.8576 - val_loss: 0.3137 - val_accuracy: 0.8596\n",
            "Epoch 8/110\n",
            "6/6 [==============================] - 1s 110ms/step - loss: 0.3326 - accuracy: 0.8576 - val_loss: 0.3189 - val_accuracy: 0.8596\n",
            "Epoch 9/110\n",
            "6/6 [==============================] - 1s 123ms/step - loss: 0.3225 - accuracy: 0.8576 - val_loss: 0.3120 - val_accuracy: 0.8596\n",
            "Epoch 10/110\n",
            "6/6 [==============================] - 1s 107ms/step - loss: 0.3266 - accuracy: 0.8576 - val_loss: 0.3103 - val_accuracy: 0.8596\n",
            "Epoch 11/110\n",
            "6/6 [==============================] - 1s 121ms/step - loss: 0.3226 - accuracy: 0.8576 - val_loss: 0.3064 - val_accuracy: 0.8596\n",
            "Epoch 12/110\n",
            "6/6 [==============================] - 1s 122ms/step - loss: 0.3213 - accuracy: 0.8576 - val_loss: 0.3056 - val_accuracy: 0.8596\n",
            "Epoch 13/110\n",
            "6/6 [==============================] - 1s 173ms/step - loss: 0.3202 - accuracy: 0.8576 - val_loss: 0.3093 - val_accuracy: 0.8596\n",
            "Epoch 14/110\n",
            "6/6 [==============================] - 1s 187ms/step - loss: 0.3259 - accuracy: 0.8576 - val_loss: 0.3111 - val_accuracy: 0.8596\n",
            "Epoch 15/110\n",
            "6/6 [==============================] - 1s 202ms/step - loss: 0.3286 - accuracy: 0.8576 - val_loss: 0.3135 - val_accuracy: 0.8596\n",
            "Epoch 16/110\n",
            "6/6 [==============================] - 1s 184ms/step - loss: 0.3305 - accuracy: 0.8576 - val_loss: 0.2993 - val_accuracy: 0.8596\n",
            "Epoch 17/110\n",
            "6/6 [==============================] - 1s 151ms/step - loss: 0.3345 - accuracy: 0.8545 - val_loss: 0.2938 - val_accuracy: 0.8596\n",
            "Epoch 18/110\n",
            "6/6 [==============================] - 1s 138ms/step - loss: 0.3214 - accuracy: 0.8576 - val_loss: 0.3040 - val_accuracy: 0.8596\n",
            "Epoch 19/110\n",
            "6/6 [==============================] - 1s 112ms/step - loss: 0.3175 - accuracy: 0.8576 - val_loss: 0.3084 - val_accuracy: 0.8596\n",
            "Epoch 20/110\n",
            "6/6 [==============================] - 1s 107ms/step - loss: 0.3199 - accuracy: 0.8576 - val_loss: 0.3128 - val_accuracy: 0.8596\n",
            "Epoch 21/110\n",
            "6/6 [==============================] - 1s 115ms/step - loss: 0.3212 - accuracy: 0.8576 - val_loss: 0.3114 - val_accuracy: 0.8596\n",
            "Epoch 22/110\n",
            "6/6 [==============================] - 1s 108ms/step - loss: 0.3179 - accuracy: 0.8576 - val_loss: 0.3043 - val_accuracy: 0.8596\n",
            "Epoch 23/110\n",
            "6/6 [==============================] - 1s 107ms/step - loss: 0.3159 - accuracy: 0.8576 - val_loss: 0.3030 - val_accuracy: 0.8596\n",
            "Epoch 24/110\n",
            "6/6 [==============================] - 1s 107ms/step - loss: 0.3195 - accuracy: 0.8576 - val_loss: 0.2995 - val_accuracy: 0.8596\n",
            "Epoch 25/110\n",
            "6/6 [==============================] - 1s 158ms/step - loss: 0.3149 - accuracy: 0.8576 - val_loss: 0.2942 - val_accuracy: 0.8596\n",
            "Epoch 26/110\n",
            "6/6 [==============================] - 1s 133ms/step - loss: 0.3208 - accuracy: 0.8576 - val_loss: 0.2916 - val_accuracy: 0.8596\n",
            "Epoch 27/110\n",
            "6/6 [==============================] - 1s 116ms/step - loss: 0.3227 - accuracy: 0.8576 - val_loss: 0.2903 - val_accuracy: 0.8596\n",
            "Epoch 28/110\n",
            "6/6 [==============================] - 1s 150ms/step - loss: 0.3063 - accuracy: 0.8576 - val_loss: 0.2966 - val_accuracy: 0.8596\n",
            "Epoch 29/110\n",
            "6/6 [==============================] - 1s 103ms/step - loss: 0.3147 - accuracy: 0.8576 - val_loss: 0.3018 - val_accuracy: 0.8596\n",
            "Epoch 30/110\n",
            "6/6 [==============================] - 1s 114ms/step - loss: 0.3096 - accuracy: 0.8576 - val_loss: 0.2936 - val_accuracy: 0.8596\n",
            "Epoch 31/110\n",
            "6/6 [==============================] - 1s 133ms/step - loss: 0.3096 - accuracy: 0.8576 - val_loss: 0.2927 - val_accuracy: 0.8596\n",
            "Epoch 32/110\n",
            "6/6 [==============================] - 1s 118ms/step - loss: 0.3113 - accuracy: 0.8576 - val_loss: 0.2922 - val_accuracy: 0.8596\n",
            "Epoch 33/110\n",
            "6/6 [==============================] - 1s 194ms/step - loss: 0.3106 - accuracy: 0.8576 - val_loss: 0.2915 - val_accuracy: 0.8596\n",
            "Epoch 34/110\n",
            "6/6 [==============================] - 1s 157ms/step - loss: 0.3149 - accuracy: 0.8576 - val_loss: 0.2966 - val_accuracy: 0.8596\n",
            "Epoch 35/110\n",
            "6/6 [==============================] - 1s 184ms/step - loss: 0.3126 - accuracy: 0.8576 - val_loss: 0.2948 - val_accuracy: 0.8596\n",
            "Epoch 36/110\n",
            "6/6 [==============================] - 1s 196ms/step - loss: 0.3088 - accuracy: 0.8576 - val_loss: 0.2906 - val_accuracy: 0.8596\n",
            "Epoch 37/110\n",
            "6/6 [==============================] - 1s 164ms/step - loss: 0.3053 - accuracy: 0.8576 - val_loss: 0.2892 - val_accuracy: 0.8596\n",
            "Epoch 38/110\n",
            "6/6 [==============================] - 1s 118ms/step - loss: 0.3078 - accuracy: 0.8576 - val_loss: 0.2924 - val_accuracy: 0.8596\n",
            "Epoch 39/110\n",
            "6/6 [==============================] - 1s 102ms/step - loss: 0.3068 - accuracy: 0.8576 - val_loss: 0.2999 - val_accuracy: 0.8596\n",
            "Epoch 40/110\n",
            "6/6 [==============================] - 1s 106ms/step - loss: 0.3148 - accuracy: 0.8576 - val_loss: 0.2959 - val_accuracy: 0.8596\n",
            "Epoch 41/110\n",
            "6/6 [==============================] - 1s 105ms/step - loss: 0.3074 - accuracy: 0.8576 - val_loss: 0.2912 - val_accuracy: 0.8596\n",
            "Epoch 42/110\n",
            "6/6 [==============================] - 0s 54ms/step - loss: 0.3073 - accuracy: 0.8576 - val_loss: 0.2897 - val_accuracy: 0.8596\n",
            "Epoch 43/110\n",
            "6/6 [==============================] - 0s 55ms/step - loss: 0.3148 - accuracy: 0.8576 - val_loss: 0.2853 - val_accuracy: 0.8596\n",
            "Epoch 44/110\n",
            "6/6 [==============================] - 0s 54ms/step - loss: 0.3215 - accuracy: 0.8576 - val_loss: 0.2979 - val_accuracy: 0.8596\n",
            "Epoch 45/110\n",
            "6/6 [==============================] - 0s 59ms/step - loss: 0.3143 - accuracy: 0.8545 - val_loss: 0.2912 - val_accuracy: 0.8596\n",
            "Epoch 46/110\n",
            "6/6 [==============================] - 0s 56ms/step - loss: 0.3024 - accuracy: 0.8576 - val_loss: 0.2839 - val_accuracy: 0.8596\n",
            "Epoch 47/110\n",
            "6/6 [==============================] - 0s 55ms/step - loss: 0.2998 - accuracy: 0.8576 - val_loss: 0.3055 - val_accuracy: 0.8421\n",
            "Epoch 48/110\n",
            "6/6 [==============================] - 0s 57ms/step - loss: 0.2958 - accuracy: 0.8576 - val_loss: 0.3158 - val_accuracy: 0.8596\n",
            "Epoch 49/110\n",
            "6/6 [==============================] - 0s 56ms/step - loss: 0.3422 - accuracy: 0.8545 - val_loss: 0.3003 - val_accuracy: 0.8596\n",
            "Epoch 50/110\n",
            "6/6 [==============================] - 0s 55ms/step - loss: 0.3193 - accuracy: 0.8576 - val_loss: 0.3316 - val_accuracy: 0.8596\n",
            "Epoch 51/110\n",
            "6/6 [==============================] - 0s 57ms/step - loss: 0.3273 - accuracy: 0.8576 - val_loss: 0.3236 - val_accuracy: 0.8596\n",
            "Epoch 52/110\n",
            "6/6 [==============================] - 0s 56ms/step - loss: 0.3232 - accuracy: 0.8576 - val_loss: 0.3186 - val_accuracy: 0.8596\n",
            "Epoch 53/110\n",
            "6/6 [==============================] - 0s 53ms/step - loss: 0.3236 - accuracy: 0.8576 - val_loss: 0.3179 - val_accuracy: 0.8596\n",
            "Epoch 54/110\n",
            "6/6 [==============================] - 0s 56ms/step - loss: 0.3205 - accuracy: 0.8576 - val_loss: 0.3150 - val_accuracy: 0.8596\n",
            "Epoch 55/110\n",
            "6/6 [==============================] - 0s 58ms/step - loss: 0.3273 - accuracy: 0.8576 - val_loss: 0.3137 - val_accuracy: 0.8596\n",
            "Epoch 56/110\n",
            "6/6 [==============================] - 0s 54ms/step - loss: 0.3214 - accuracy: 0.8576 - val_loss: 0.3159 - val_accuracy: 0.8596\n",
            "Epoch 57/110\n",
            "6/6 [==============================] - 0s 56ms/step - loss: 0.3242 - accuracy: 0.8576 - val_loss: 0.3136 - val_accuracy: 0.8596\n",
            "Epoch 58/110\n",
            "6/6 [==============================] - 0s 53ms/step - loss: 0.3195 - accuracy: 0.8576 - val_loss: 0.3123 - val_accuracy: 0.8596\n",
            "Epoch 59/110\n",
            "6/6 [==============================] - 0s 53ms/step - loss: 0.3249 - accuracy: 0.8576 - val_loss: 0.3110 - val_accuracy: 0.8596\n",
            "Epoch 60/110\n",
            "6/6 [==============================] - 0s 53ms/step - loss: 0.3225 - accuracy: 0.8576 - val_loss: 0.3103 - val_accuracy: 0.8596\n",
            "Epoch 61/110\n",
            "6/6 [==============================] - 0s 56ms/step - loss: 0.3221 - accuracy: 0.8576 - val_loss: 0.3073 - val_accuracy: 0.8596\n",
            "Epoch 62/110\n",
            "6/6 [==============================] - 0s 68ms/step - loss: 0.3206 - accuracy: 0.8576 - val_loss: 0.3047 - val_accuracy: 0.8596\n",
            "Epoch 63/110\n",
            "6/6 [==============================] - 1s 109ms/step - loss: 0.3135 - accuracy: 0.8576 - val_loss: 0.3009 - val_accuracy: 0.8596\n",
            "Epoch 64/110\n",
            "6/6 [==============================] - 1s 103ms/step - loss: 0.3166 - accuracy: 0.8576 - val_loss: 0.2964 - val_accuracy: 0.8596\n",
            "Epoch 65/110\n",
            "6/6 [==============================] - 1s 104ms/step - loss: 0.3263 - accuracy: 0.8576 - val_loss: 0.3024 - val_accuracy: 0.8596\n",
            "Epoch 66/110\n",
            "6/6 [==============================] - 1s 109ms/step - loss: 0.3258 - accuracy: 0.8576 - val_loss: 0.3022 - val_accuracy: 0.8596\n",
            "Epoch 67/110\n",
            "6/6 [==============================] - 1s 98ms/step - loss: 0.3238 - accuracy: 0.8576 - val_loss: 0.2996 - val_accuracy: 0.8596\n",
            "Epoch 68/110\n",
            "6/6 [==============================] - 1s 103ms/step - loss: 0.3158 - accuracy: 0.8576 - val_loss: 0.2976 - val_accuracy: 0.8596\n",
            "Epoch 69/110\n",
            "6/6 [==============================] - 1s 103ms/step - loss: 0.3120 - accuracy: 0.8576 - val_loss: 0.2987 - val_accuracy: 0.8596\n",
            "Epoch 70/110\n",
            "6/6 [==============================] - 0s 59ms/step - loss: 0.3159 - accuracy: 0.8576 - val_loss: 0.2975 - val_accuracy: 0.8596\n",
            "Epoch 71/110\n",
            "6/6 [==============================] - 0s 54ms/step - loss: 0.3088 - accuracy: 0.8576 - val_loss: 0.2937 - val_accuracy: 0.8596\n",
            "Epoch 72/110\n",
            "6/6 [==============================] - 0s 58ms/step - loss: 0.3125 - accuracy: 0.8576 - val_loss: 0.2962 - val_accuracy: 0.8596\n",
            "Epoch 73/110\n",
            "6/6 [==============================] - 0s 59ms/step - loss: 0.3243 - accuracy: 0.8576 - val_loss: 0.2866 - val_accuracy: 0.8596\n",
            "Epoch 74/110\n",
            "6/6 [==============================] - 0s 56ms/step - loss: 0.3135 - accuracy: 0.8576 - val_loss: 0.2834 - val_accuracy: 0.8596\n",
            "Epoch 75/110\n",
            "6/6 [==============================] - 0s 58ms/step - loss: 0.3055 - accuracy: 0.8576 - val_loss: 0.2899 - val_accuracy: 0.8596\n",
            "Epoch 76/110\n",
            "6/6 [==============================] - 0s 56ms/step - loss: 0.3019 - accuracy: 0.8576 - val_loss: 0.2959 - val_accuracy: 0.8596\n",
            "Epoch 77/110\n",
            "6/6 [==============================] - 0s 59ms/step - loss: 0.3222 - accuracy: 0.8576 - val_loss: 0.3395 - val_accuracy: 0.8421\n",
            "Epoch 78/110\n",
            "6/6 [==============================] - 0s 54ms/step - loss: 0.3286 - accuracy: 0.8576 - val_loss: 0.3258 - val_accuracy: 0.8596\n",
            "Epoch 79/110\n",
            "6/6 [==============================] - 0s 58ms/step - loss: 0.3227 - accuracy: 0.8576 - val_loss: 0.3218 - val_accuracy: 0.8596\n",
            "Epoch 80/110\n",
            "6/6 [==============================] - 0s 54ms/step - loss: 0.3230 - accuracy: 0.8576 - val_loss: 0.3199 - val_accuracy: 0.8596\n",
            "Epoch 81/110\n",
            "6/6 [==============================] - 0s 58ms/step - loss: 0.3263 - accuracy: 0.8576 - val_loss: 0.3218 - val_accuracy: 0.8596\n",
            "Epoch 82/110\n",
            "6/6 [==============================] - 0s 58ms/step - loss: 0.3252 - accuracy: 0.8576 - val_loss: 0.3170 - val_accuracy: 0.8596\n",
            "Epoch 83/110\n",
            "6/6 [==============================] - 0s 54ms/step - loss: 0.3169 - accuracy: 0.8576 - val_loss: 0.3145 - val_accuracy: 0.8596\n",
            "Epoch 84/110\n",
            "6/6 [==============================] - 0s 58ms/step - loss: 0.3205 - accuracy: 0.8576 - val_loss: 0.3219 - val_accuracy: 0.8596\n",
            "Epoch 85/110\n",
            "6/6 [==============================] - 0s 59ms/step - loss: 0.3288 - accuracy: 0.8576 - val_loss: 0.3193 - val_accuracy: 0.8596\n",
            "Epoch 86/110\n",
            "6/6 [==============================] - 0s 57ms/step - loss: 0.3258 - accuracy: 0.8576 - val_loss: 0.3190 - val_accuracy: 0.8596\n",
            "Epoch 87/110\n",
            "6/6 [==============================] - 0s 58ms/step - loss: 0.3312 - accuracy: 0.8576 - val_loss: 0.3194 - val_accuracy: 0.8596\n",
            "Epoch 88/110\n",
            "6/6 [==============================] - 0s 59ms/step - loss: 0.3268 - accuracy: 0.8576 - val_loss: 0.3108 - val_accuracy: 0.8596\n",
            "Epoch 89/110\n",
            "6/6 [==============================] - 0s 57ms/step - loss: 0.3182 - accuracy: 0.8576 - val_loss: 0.3047 - val_accuracy: 0.8596\n",
            "Epoch 90/110\n",
            "6/6 [==============================] - 0s 59ms/step - loss: 0.3198 - accuracy: 0.8576 - val_loss: 0.3039 - val_accuracy: 0.8596\n",
            "Epoch 91/110\n",
            "6/6 [==============================] - 0s 60ms/step - loss: 0.3117 - accuracy: 0.8576 - val_loss: 0.3047 - val_accuracy: 0.8596\n",
            "Epoch 92/110\n",
            "6/6 [==============================] - 0s 57ms/step - loss: 0.3171 - accuracy: 0.8576 - val_loss: 0.3056 - val_accuracy: 0.8596\n",
            "Epoch 93/110\n",
            "6/6 [==============================] - 0s 58ms/step - loss: 0.3154 - accuracy: 0.8576 - val_loss: 0.3006 - val_accuracy: 0.8596\n",
            "Epoch 94/110\n",
            "6/6 [==============================] - 0s 61ms/step - loss: 0.3168 - accuracy: 0.8576 - val_loss: 0.2994 - val_accuracy: 0.8596\n",
            "Epoch 95/110\n",
            "6/6 [==============================] - 0s 58ms/step - loss: 0.3112 - accuracy: 0.8576 - val_loss: 0.3094 - val_accuracy: 0.8596\n",
            "Epoch 96/110\n",
            "6/6 [==============================] - 0s 60ms/step - loss: 0.3141 - accuracy: 0.8576 - val_loss: 0.3131 - val_accuracy: 0.8596\n",
            "Epoch 97/110\n",
            "6/6 [==============================] - 0s 57ms/step - loss: 0.3172 - accuracy: 0.8576 - val_loss: 0.3152 - val_accuracy: 0.8596\n",
            "Epoch 98/110\n",
            "6/6 [==============================] - 0s 81ms/step - loss: 0.3128 - accuracy: 0.8576 - val_loss: 0.3071 - val_accuracy: 0.8596\n",
            "Epoch 99/110\n",
            "6/6 [==============================] - 1s 104ms/step - loss: 0.3149 - accuracy: 0.8576 - val_loss: 0.2966 - val_accuracy: 0.8596\n",
            "Epoch 100/110\n",
            "6/6 [==============================] - 1s 99ms/step - loss: 0.3091 - accuracy: 0.8576 - val_loss: 0.2911 - val_accuracy: 0.8596\n",
            "Epoch 101/110\n",
            "6/6 [==============================] - 1s 110ms/step - loss: 0.3021 - accuracy: 0.8576 - val_loss: 0.2876 - val_accuracy: 0.8596\n",
            "Epoch 102/110\n",
            "6/6 [==============================] - 1s 103ms/step - loss: 0.3081 - accuracy: 0.8576 - val_loss: 0.2937 - val_accuracy: 0.8596\n",
            "Epoch 103/110\n",
            "6/6 [==============================] - 1s 102ms/step - loss: 0.3185 - accuracy: 0.8576 - val_loss: 0.3163 - val_accuracy: 0.8596\n",
            "Epoch 104/110\n",
            "6/6 [==============================] - 1s 111ms/step - loss: 0.3257 - accuracy: 0.8576 - val_loss: 0.3159 - val_accuracy: 0.8596\n",
            "Epoch 105/110\n",
            "6/6 [==============================] - 0s 73ms/step - loss: 0.3191 - accuracy: 0.8576 - val_loss: 0.3137 - val_accuracy: 0.8596\n",
            "Epoch 106/110\n",
            "6/6 [==============================] - 0s 60ms/step - loss: 0.3222 - accuracy: 0.8576 - val_loss: 0.3122 - val_accuracy: 0.8596\n",
            "Epoch 107/110\n",
            "6/6 [==============================] - 0s 54ms/step - loss: 0.3192 - accuracy: 0.8576 - val_loss: 0.3130 - val_accuracy: 0.8596\n",
            "Epoch 108/110\n",
            "6/6 [==============================] - 0s 55ms/step - loss: 0.3202 - accuracy: 0.8576 - val_loss: 0.3102 - val_accuracy: 0.8596\n",
            "Epoch 109/110\n",
            "6/6 [==============================] - 0s 60ms/step - loss: 0.3188 - accuracy: 0.8576 - val_loss: 0.3079 - val_accuracy: 0.8596\n",
            "Epoch 110/110\n",
            "6/6 [==============================] - 0s 56ms/step - loss: 0.3191 - accuracy: 0.8576 - val_loss: 0.3066 - val_accuracy: 0.8596\n"
          ]
        }
      ],
      "source": [
        "train = model.fit(train_X, train_label,callbacks=callbacks, batch_size=batch_size, epochs=epochs,verbose=1, validation_data=(valid_X,valid_label))"
      ]
    },
    {
      "cell_type": "code",
      "execution_count": null,
      "metadata": {
        "id": "zE5PMeutIzJA",
        "colab": {
          "base_uri": "https://localhost:8080/"
        },
        "outputId": "071d4239-8335-4033-aa30-7e8264143002"
      },
      "outputs": [
        {
          "output_type": "stream",
          "name": "stdout",
          "text": [
            "3/3 [==============================] - 0s 16ms/step - loss: 0.3673 - accuracy: 0.8229\n"
          ]
        }
      ],
      "source": [
        "test_eval = model.evaluate(test_X, test_Y_one_hot, verbose=1)"
      ]
    },
    {
      "cell_type": "code",
      "execution_count": null,
      "metadata": {
        "id": "o31dST3-IzNc",
        "colab": {
          "base_uri": "https://localhost:8080/"
        },
        "outputId": "d256a7fa-1557-4425-c88e-898b51e35d8b"
      },
      "outputs": [
        {
          "output_type": "stream",
          "name": "stdout",
          "text": [
            "Test loss: 0.36732783913612366\n",
            "Test accuracy: 0.8229166865348816\n"
          ]
        }
      ],
      "source": [
        "print('Test loss:', test_eval[0])\n",
        "print('Test accuracy:', test_eval[1])"
      ]
    },
    {
      "cell_type": "code",
      "execution_count": null,
      "metadata": {
        "id": "vEtGJ3cDdJQ4",
        "colab": {
          "base_uri": "https://localhost:8080/"
        },
        "outputId": "2b2b5f94-7bf9-47ee-bfba-9caf4f05836f"
      },
      "outputs": [
        {
          "output_type": "display_data",
          "data": {
            "text/plain": [
              "<Figure size 432x288 with 1 Axes>"
            ],
            "image/png": "[encoded data removed]"
          },
          "metadata": {
            "needs_background": "light"
          }
        },
        {
          "output_type": "display_data",
          "data": {
            "text/plain": [
              "<Figure size 432x288 with 1 Axes>"
            ],
            "image/png": "[encoded data removed]"
          },
          "metadata": {
            "needs_background": "light"
          }
        }
      ],
      "source": [
        "accuracy = train.history['accuracy']\n",
        "val_accuracy = train.history['val_accuracy']\n",
        "loss = train.history['loss']\n",
        "val_loss = train.history['val_loss']\n",
        "epochs = range(len(accuracy))\n",
        "plt.plot(epochs, accuracy, 'bo', label='Training accuracy')\n",
        "plt.plot(epochs, val_accuracy, 'b', label='Validation accuracy')\n",
        "plt.title('Training and validation accuracy')\n",
        "plt.legend()\n",
        "plt.figure()\n",
        "plt.plot(epochs, loss, 'bo', label='Training loss')\n",
        "plt.plot(epochs, val_loss, 'b', label='Validation loss')\n",
        "plt.title('Training and validation loss')\n",
        "plt.legend()\n",
        "plt.show()"
      ]
    },
    {
      "cell_type": "code",
      "metadata": {
        "id": "tagynGN1z3ro"
      },
      "source": [
        "import math\n",
        "from sklearn.metrics import confusion_matrix, classification_report\n",
        "from sklearn.metrics import confusion_matrix\n",
        "from sklearn import svm"
      ],
      "execution_count": null,
      "outputs": []
    },
    {
      "cell_type": "code",
      "source": [
        "import sklearn.metrics as metrics\n",
        "\n",
        "y_pred_ohe = model.predict(test_X)  # shape=(n_samples, 12)\n",
        "y_pred_labels = np.argmax(y_pred_ohe, axis=1)  # only necessary if output has one-hot-encoding, shape=(n_samples)\n",
        "\n",
        "\n",
        "confusion_matrix = metrics.confusion_matrix(y_true=y_test, y_pred=y_pred_labels, normalize='true')  # shape=(12, 12)"
      ],
      "metadata": {
        "id": "jaIp4GGABReJ",
        "colab": {
          "base_uri": "https://localhost:8080/"
        },
        "outputId": "f6e5bb9b-2074-4e7c-e32d-c2be6fcd6027"
      },
      "execution_count": null,
      "outputs": [
        {
          "output_type": "stream",
          "name": "stdout",
          "text": [
            "3/3 [==============================] - 1s 24ms/step\n"
          ]
        }
      ]
    },
    {
      "cell_type": "code",
      "source": [
        "print(confusion_matrix*100)"
      ],
      "metadata": {
        "id": "6rraU12NBWe8",
        "colab": {
          "base_uri": "https://localhost:8080/"
        },
        "outputId": "9b691636-dc35-4f80-df5f-203ca97aee2f"
      },
      "execution_count": null,
      "outputs": [
        {
          "output_type": "stream",
          "name": "stdout",
          "text": [
            "[[100.          0.       ]\n",
            " [ 32.0754717  67.9245283]]\n"
          ]
        }
      ]
    },
    {
      "cell_type": "code",
      "source": [
        "sns.heatmap(confusion_matrix*100, annot=True, cmap='Blues')"
      ],
      "metadata": {
        "id": "1_8Aj3gldbCE",
        "colab": {
          "base_uri": "https://localhost:8080/"
        },
        "outputId": "81e84155-b393-4c2f-a43c-96fc401b374c"
      },
      "execution_count": null,
      "outputs": [
        {
          "output_type": "execute_result",
          "data": {
            "text/plain": [
              "<AxesSubplot:>"
            ]
          },
          "metadata": {},
          "execution_count": 532
        },
        {
          "output_type": "display_data",
          "data": {
            "text/plain": [
              "<Figure size 432x288 with 2 Axes>"
            ],
            "image/png": "[encoded data removed]"
          },
          "metadata": {
            "needs_background": "light"
          }
        }
      ]
    }
  ],
  "metadata": {
    "colab": {
      "provenance": [],
      "authorship_tag": "ABX9TyODT6iYp52dtAVyO952PB11",
      "include_colab_link": true
    },
    "kernelspec": {
      "display_name": "Python 3",
      "name": "python3"
    },
    "language_info": {
      "name": "python"
    }
  },
  "nbformat": 4,
  "nbformat_minor": 0
}